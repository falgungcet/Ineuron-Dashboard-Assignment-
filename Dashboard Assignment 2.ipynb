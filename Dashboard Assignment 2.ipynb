{
 "cells": [
  {
   "cell_type": "markdown",
   "metadata": {},
   "source": [
    "# 1.What are the two values of the Boolean data type? How do you write them?"
   ]
  },
  {
   "cell_type": "markdown",
   "metadata": {},
   "source": [
    "Types are TRUE and FALSE. We can right it by certain condition: whether it is correct or not like ON OFF kind. Also can say that two levels. For example "
   ]
  },
  {
   "cell_type": "code",
   "execution_count": 1,
   "metadata": {},
   "outputs": [
    {
     "data": {
      "text/plain": [
       "True"
      ]
     },
     "execution_count": 1,
     "metadata": {},
     "output_type": "execute_result"
    }
   ],
   "source": [
    "1==1"
   ]
  },
  {
   "cell_type": "code",
   "execution_count": 2,
   "metadata": {},
   "outputs": [
    {
     "data": {
      "text/plain": [
       "False"
      ]
     },
     "execution_count": 2,
     "metadata": {},
     "output_type": "execute_result"
    }
   ],
   "source": [
    "2<1"
   ]
  },
  {
   "cell_type": "markdown",
   "metadata": {},
   "source": [
    "# 2. What are the three different types of Boolean operators?"
   ]
  },
  {
   "cell_type": "markdown",
   "metadata": {},
   "source": [
    "and, or and not are three different types of boolean operators "
   ]
  },
  {
   "cell_type": "markdown",
   "metadata": {},
   "source": [
    "# 3. Make a list of each Boolean operator's truth tables (i.e. every possible combination of Boolean values for the operator and what it evaluate )."
   ]
  },
  {
   "cell_type": "markdown",
   "metadata": {},
   "source": [
    " Every 1 = True and 0 = False condition \n",
    " \n",
    "For and: first two columns are of inputs and remaing one for output\n",
    "\n",
    "Inputs     -------------               outputs\n",
    "\n",
    " 0   0    -------------                   0\n",
    " \n",
    " 0   1    -------------                   0\n",
    " \n",
    " 1   0    -------------                   0\n",
    " \n",
    " 1   1    -------------                   1  \n",
    "\n",
    "\n",
    "For or: first two columns are of inputs and remaing one for output\n",
    "\n",
    "Inputs     -------------               outputs\n",
    "\n",
    " 0   0     -------------                  0\n",
    " \n",
    " 0   1     -------------                  1\n",
    " \n",
    " 1   0     -------------                  1\n",
    " \n",
    " 1   1      -------------                 1 \n",
    "\n",
    "For not: first  columns is of input and next one column for output\n",
    "\n",
    "Inputs    -------------                outputs\n",
    "\n",
    "   0      -------------                   1 \n",
    "    \n",
    "   1      -------------                   0"
   ]
  },
  {
   "cell_type": "markdown",
   "metadata": {},
   "source": [
    "# 4. What are the values of the following expressions?\n",
    "\n"
   ]
  },
  {
   "cell_type": "markdown",
   "metadata": {},
   "source": [
    "Answers: (5 > 4) and (3 == 5)   ----- false\n",
    "\n",
    "not (5 > 4) ------  false\n",
    "\n",
    "(5 > 4) or (3 == 5) ------ true\n",
    "\n",
    "not ((5 > 4) or (3 == 5)) ------ false\n",
    "\n",
    "(True and True) and (True == False) ------- false\n",
    "\n",
    "(not False) or (not True)  ----------- true\n"
   ]
  },
  {
   "cell_type": "markdown",
   "metadata": {},
   "source": [
    "# 5. What are the six comparison operators?"
   ]
  },
  {
   "cell_type": "markdown",
   "metadata": {},
   "source": [
    "Greater Than >,  \n",
    "\n",
    "Less than <, \n",
    "\n",
    "Equal to ==, \n",
    "\n",
    "Greater Than or equal too >=, \n",
    "\n",
    "Less Than or equal too <=, \n",
    "\n",
    "!= not equal to"
   ]
  },
  {
   "cell_type": "markdown",
   "metadata": {},
   "source": [
    "# 6. How do you tell the difference between the equal to and assignment operators?Describe a condition and when you would use one."
   ]
  },
  {
   "cell_type": "markdown",
   "metadata": {},
   "source": [
    "''=='' Equal to operator is giving comparison, whereas ''='' assignment operator assigning the value to certain variable\n",
    "\n",
    "Examples\n",
    "\n",
    "When you would like to compare two values in general, you can use ==\n",
    "\n",
    "e.g. x=2  and y=2\n",
    "\n",
    "x==y giving true output which is showing both are same\n",
    "\n",
    "\n",
    "In case of assigning values x=2  and y=2 are assigning values to x and y"
   ]
  },
  {
   "cell_type": "markdown",
   "metadata": {},
   "source": [
    "# 7. Identify the three blocks in this code:\n",
    "spam = 0\n",
    "\n",
    "if spam == 10:\n",
    "\n",
    "print('eggs')\n",
    "\n",
    "if spam > 5:\n",
    "\n",
    "print('bacon')\n",
    "\n",
    "else:\n",
    "\n",
    "print('ham')\n",
    "\n",
    "print('spam')\n",
    "\n",
    "print('spam')\n"
   ]
  },
  {
   "cell_type": "markdown",
   "metadata": {},
   "source": [
    "1st block  \n",
    "\n",
    "spam = 0\n",
    "\n",
    "if spam == 10:\n",
    "\n",
    "print('eggs')\n",
    "\n",
    "-------------------\n",
    "2nd Block\n",
    "\n",
    "if spam > 5:\n",
    "\n",
    "print('bacon')\n",
    "\n",
    "------------------\n",
    "3rd Block\n",
    "\n",
    "else:\n",
    "\n",
    "print('ham')\n",
    "\n",
    "print('spam')\n",
    "\n",
    "print('spam')\n",
    "\n",
    "\n"
   ]
  },
  {
   "cell_type": "markdown",
   "metadata": {},
   "source": [
    "# 8. Write code that prints Hello if 1 is stored in spam, prints Howdy if 2 is stored in spam, and prints Greetings! if anything else is stored in spam."
   ]
  },
  {
   "cell_type": "code",
   "execution_count": 25,
   "metadata": {},
   "outputs": [
    {
     "name": "stdout",
     "output_type": "stream",
     "text": [
      "enter the value for spam3\n",
      "Greetings\n"
     ]
    }
   ],
   "source": [
    "spam=input('enter the value for spam')\n",
    "if spam == '1':\n",
    "    print('hello')\n",
    "elif spam == '2':\n",
    "    print('howdy')\n",
    "else:\n",
    "    print('Greetings')\n",
    "    \n",
    "    \n",
    "        "
   ]
  },
  {
   "cell_type": "markdown",
   "metadata": {},
   "source": [
    "# 9. If your programme is stuck in an endless loop, what keys you’ll press?"
   ]
  },
  {
   "cell_type": "markdown",
   "metadata": {},
   "source": [
    "cntrl + c keys togather "
   ]
  },
  {
   "cell_type": "markdown",
   "metadata": {},
   "source": [
    "# 10. How can you tell the difference between break and continue?"
   ]
  },
  {
   "cell_type": "markdown",
   "metadata": {},
   "source": [
    "break will give end to every iterations, while continue will offer skip the particular iteration only and continue the execution"
   ]
  },
  {
   "cell_type": "markdown",
   "metadata": {},
   "source": [
    "# 11. In a for loop, what is the difference between range(10), range(0, 10), and range(0, 10, 1)?"
   ]
  },
  {
   "cell_type": "markdown",
   "metadata": {},
   "source": [
    "There is no difference among range(10), range(0, 10), and range(0, 10, 1)...They all will be giving 0, 1, 2 ......9"
   ]
  },
  {
   "cell_type": "markdown",
   "metadata": {},
   "source": [
    "# 12. Write a short program that prints the numbers 1 to 10 using a for loop. Then write an equivalent program that prints the numbers 1 to 10 using a while loop."
   ]
  },
  {
   "cell_type": "code",
   "execution_count": 39,
   "metadata": {},
   "outputs": [
    {
     "name": "stdout",
     "output_type": "stream",
     "text": [
      "1\n",
      "2\n",
      "3\n",
      "4\n",
      "5\n",
      "6\n",
      "7\n",
      "8\n",
      "9\n",
      "10\n"
     ]
    }
   ],
   "source": [
    "for i in range(1,11):\n",
    "    print(i)"
   ]
  },
  {
   "cell_type": "code",
   "execution_count": 41,
   "metadata": {},
   "outputs": [
    {
     "name": "stdout",
     "output_type": "stream",
     "text": [
      "1\n",
      "2\n",
      "3\n",
      "4\n",
      "5\n",
      "6\n",
      "7\n",
      "8\n",
      "9\n",
      "10\n",
      "11\n"
     ]
    }
   ],
   "source": [
    "i=0\n",
    "while (i<=10):\n",
    "    i=i+1\n",
    "    print(i)"
   ]
  },
  {
   "cell_type": "markdown",
   "metadata": {},
   "source": [
    "# 13. If you had a function named bacon() inside a module named spam, how would you call it after importing spam?"
   ]
  },
  {
   "cell_type": "markdown",
   "metadata": {},
   "source": [
    "After importing module 'spam'. with the help of 'def' command one can call it..\n",
    "\n",
    "for example \n",
    "\n",
    "\n",
    "from spam import *\n",
    "\n",
    "def bacon()\n",
    "\n",
    "   #task to be executed\n"
   ]
  },
  {
   "cell_type": "code",
   "execution_count": null,
   "metadata": {},
   "outputs": [],
   "source": []
  }
 ],
 "metadata": {
  "kernelspec": {
   "display_name": "Python 3",
   "language": "python",
   "name": "python3"
  },
  "language_info": {
   "codemirror_mode": {
    "name": "ipython",
    "version": 3
   },
   "file_extension": ".py",
   "mimetype": "text/x-python",
   "name": "python",
   "nbconvert_exporter": "python",
   "pygments_lexer": "ipython3",
   "version": "3.7.3"
  }
 },
 "nbformat": 4,
 "nbformat_minor": 2
}
